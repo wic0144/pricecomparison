{
 "cells": [
  {
   "cell_type": "code",
   "execution_count": 1,
   "metadata": {},
   "outputs": [],
   "source": [
    "from pyspark.sql import SparkSession\n",
    "from pyspark.sql.types import *\n",
    "from decimal import Decimal\n",
    "from pyspark.sql.functions import *\n",
    "import pyspark.sql.functions as F\n",
    "import pandas as pd\n",
    "import os\n",
    "import re\n",
    "import sys"
   ]
  },
  {
   "cell_type": "code",
   "execution_count": 2,
   "metadata": {},
   "outputs": [],
   "source": [
    "appName = \"DataPrep\"\n",
    "master = \"spark://LAPTOP-NKV0VISO.localdomain:7077\"\n",
    "# master = \"spark://192.168.56.1:7077\"\n",
    "# master = \"local[*]\""
   ]
  },
  {
   "cell_type": "code",
   "execution_count": 3,
   "metadata": {},
   "outputs": [
    {
     "name": "stderr",
     "output_type": "stream",
     "text": [
      "22/04/05 00:00:48 WARN Utils: Your hostname, LAPTOP-NKV0VISO resolves to a loopback address: 127.0.1.1; using 172.31.188.213 instead (on interface eth0)\n",
      "22/04/05 00:00:48 WARN Utils: Set SPARK_LOCAL_IP if you need to bind to another address\n",
      "WARNING: An illegal reflective access operation has occurred\n",
      "WARNING: Illegal reflective access by org.apache.spark.unsafe.Platform (file:/c/spark-3.2.0-bin-hadoop3.2/jars/spark-unsafe_2.12-3.2.0.jar) to constructor java.nio.DirectByteBuffer(long,int)\n",
      "WARNING: Please consider reporting this to the maintainers of org.apache.spark.unsafe.Platform\n",
      "WARNING: Use --illegal-access=warn to enable warnings of further illegal reflective access operations\n",
      "WARNING: All illegal access operations will be denied in a future release\n",
      "Using Spark's default log4j profile: org/apache/spark/log4j-defaults.properties\n",
      "Setting default log level to \"WARN\".\n",
      "To adjust logging level use sc.setLogLevel(newLevel). For SparkR, use setLogLevel(newLevel).\n",
      "22/04/05 00:00:51 WARN NativeCodeLoader: Unable to load native-hadoop library for your platform... using builtin-java classes where applicable\n",
      "22/04/05 00:00:53 WARN Utils: Service 'SparkUI' could not bind on port 8080. Attempting port 8081.\n",
      "22/04/05 00:00:53 WARN Utils: Service 'SparkUI' could not bind on port 8081. Attempting port 8082.\n"
     ]
    }
   ],
   "source": [
    "# Create Spark session\n",
    "# spark = SparkSession.builder.appName(\"example-pyspark-read-and-write\").getOrCreate()\n",
    "spark = SparkSession.builder \\\n",
    "    .config('spark.ui.port','8080') \\\n",
    "    .appName(appName) \\\n",
    "    .master(master) \\\n",
    "    .getOrCreate()"
   ]
  },
  {
   "cell_type": "code",
   "execution_count": 37,
   "metadata": {},
   "outputs": [],
   "source": [
    "dfShopee = spark.read.format(\"csv\")\\\n",
    "                    .option(\"header\", True)\\\n",
    "                    .option(\"delimiter\",\";\") \\\n",
    "                    .load(\"hdfs://localhost:9000/data_upload/Shopee.csv\")"
   ]
  },
  {
   "cell_type": "code",
   "execution_count": 38,
   "metadata": {},
   "outputs": [],
   "source": [
    "dfLazada = spark.read.format(\"csv\")\\\n",
    "                    .option(\"header\", True)\\\n",
    "                    .option(\"delimiter\",\";\") \\\n",
    "                    .load(\"hdfs://localhost:9000/data_upload/master/Lazada.csv\")"
   ]
  },
  {
   "cell_type": "code",
   "execution_count": 39,
   "metadata": {},
   "outputs": [],
   "source": [
    "dfJD = spark.read.format(\"csv\")\\\n",
    "                    .option(\"header\", True)\\\n",
    "                    .option(\"delimiter\",\";\") \\\n",
    "                    .load(\"hdfs://localhost:9000/data_upload/master/JdCentral.csv\")"
   ]
  },
  {
   "cell_type": "markdown",
   "metadata": {},
   "source": [
    "df_shopee = dfShopee.toPandas()\n",
    "df_shopee = df_shopee.dropna()\n",
    "for index, row in df_shopee.iterrows():\n",
    "    row['URL'] =row['URL'].replace(\" \", \"-\")\n",
    "    row['URL'] =row['URL'].replace(\"·\", \"-\")\n",
    "    row['URL'] =row['URL'].replace(\"\\t\", \"-\")"
   ]
  },
  {
   "cell_type": "markdown",
   "metadata": {},
   "source": [
    "df_Lazada = dfLazada.toPandas()\n",
    "df_Lazada = df_Lazada.dropna()\n",
    "for index, row in df_Lazada.iterrows():\n",
    "    row['Platform'] =row['Platform'].replace(\",\", \"\")\n",
    "    row['Platform'] =row['Platform'].replace('\"\"', \"\")"
   ]
  },
  {
   "cell_type": "markdown",
   "metadata": {},
   "source": [
    "dfShopee=spark.createDataFrame(df_shopee)\n",
    "dfLazada=spark.createDataFrame(df_Lazada)"
   ]
  },
  {
   "cell_type": "code",
   "execution_count": 8,
   "metadata": {
    "scrolled": true
   },
   "outputs": [
    {
     "name": "stdout",
     "output_type": "stream",
     "text": [
      "root\n",
      " |-- Name: string (nullable = true)\n",
      " |-- brand: string (nullable = true)\n",
      " |-- Price: string (nullable = true)\n",
      " |-- historical_sold: string (nullable = true)\n",
      " |-- Score: string (nullable = true)\n",
      " |-- view_count: string (nullable = true)\n",
      " |-- Category: string (nullable = true)\n",
      " |-- Image: string (nullable = true)\n",
      " |-- Platform: string (nullable = true)\n",
      " |-- URL: string (nullable = true)\n",
      " |-- rating_star: string (nullable = true)\n",
      " |-- shop_location: string (nullable = true)\n",
      "\n"
     ]
    }
   ],
   "source": [
    "dfShopee.printSchema()"
   ]
  },
  {
   "cell_type": "code",
   "execution_count": 9,
   "metadata": {
    "scrolled": true
   },
   "outputs": [
    {
     "name": "stdout",
     "output_type": "stream",
     "text": [
      "root\n",
      " |-- Name: string (nullable = true)\n",
      " |-- Price: string (nullable = true)\n",
      " |-- Review: string (nullable = true)\n",
      " |-- Score: string (nullable = true)\n",
      " |-- Image: string (nullable = true)\n",
      " |-- Category: string (nullable = true)\n",
      " |-- URL: string (nullable = true)\n",
      " |-- Platform,,,,,,,,,,,,: string (nullable = true)\n",
      "\n"
     ]
    }
   ],
   "source": [
    "dfLazada.printSchema()"
   ]
  },
  {
   "cell_type": "code",
   "execution_count": 10,
   "metadata": {
    "scrolled": false
   },
   "outputs": [
    {
     "name": "stdout",
     "output_type": "stream",
     "text": [
      "root\n",
      " |-- Name: string (nullable = true)\n",
      " |-- Price: string (nullable = true)\n",
      " |-- Review: string (nullable = true)\n",
      " |-- Score: string (nullable = true)\n",
      " |-- Category: string (nullable = true)\n",
      " |-- Subcategory: string (nullable = true)\n",
      " |-- Store: string (nullable = true)\n",
      " |-- Image: string (nullable = true)\n",
      " |-- URL: string (nullable = true)\n",
      " |-- Platform: string (nullable = true)\n",
      " |-- enToken: string (nullable = true)\n",
      " |-- thToken: string (nullable = true)\n",
      "\n"
     ]
    }
   ],
   "source": [
    "dfJD.printSchema()"
   ]
  },
  {
   "cell_type": "code",
   "execution_count": 40,
   "metadata": {},
   "outputs": [],
   "source": [
    "dfLazada = dfLazada.withColumnRenamed(\"Platform,,,,,,,,,,,,\",\"Platform\")\n",
    "dfShopee = dfShopee.withColumnRenamed(\"Score\",\"Review\").withColumnRenamed(\"rating_star\",\"Score\")\n",
    "dfLazada = dfLazada.where(col(\"Price\").isNotNull())\n",
    "dfJD = dfJD.withColumn(\"Score\", col(\"Score\") / 20)\n",
    "dfShopee = dfShopee.where(col(\"Name\").isNotNull())\n",
    "dfShopee = dfShopee.where(col(\"Score\").isNotNull())"
   ]
  },
  {
   "cell_type": "code",
   "execution_count": 41,
   "metadata": {},
   "outputs": [],
   "source": [
    "dfShopee = dfShopee.select(col(\"Name\"),col(\"Price\"),col(\"Review\"),col(\"Score\"),col(\"Image\"),col(\"Category\"),col(\"URL\"),col(\"Platform\"),col(\"brand\"),col(\"historical_sold\"),col(\"view_count\"),col(\"shop_location\"))\n",
    "dfJD = dfJD.select(col(\"Name\"),col(\"Price\"),col(\"Review\"),col(\"Score\"),col(\"Image\"),col(\"Category\"),col(\"URL\"),col(\"Platform\"),col(\"Store\"),col(\"Subcategory\"))\n",
    "dfLazada = dfLazada.select(col(\"Name\"),col(\"Price\"),col(\"Review\"),col(\"Score\"),col(\"Image\"),col(\"Category\"),col(\"URL\"),col(\"Platform\"))"
   ]
  },
  {
   "cell_type": "code",
   "execution_count": 42,
   "metadata": {},
   "outputs": [
    {
     "name": "stdout",
     "output_type": "stream",
     "text": [
      "root\n",
      " |-- Name: string (nullable = true)\n",
      " |-- Price: string (nullable = true)\n",
      " |-- Review: string (nullable = true)\n",
      " |-- Score: string (nullable = true)\n",
      " |-- Image: string (nullable = true)\n",
      " |-- Category: string (nullable = true)\n",
      " |-- URL: string (nullable = true)\n",
      " |-- Platform: string (nullable = true)\n",
      " |-- brand: string (nullable = true)\n",
      " |-- historical_sold: string (nullable = true)\n",
      " |-- view_count: string (nullable = true)\n",
      " |-- shop_location: string (nullable = true)\n",
      "\n"
     ]
    }
   ],
   "source": [
    "dfShopee.printSchema()"
   ]
  },
  {
   "cell_type": "code",
   "execution_count": 43,
   "metadata": {},
   "outputs": [
    {
     "name": "stdout",
     "output_type": "stream",
     "text": [
      "root\n",
      " |-- Name: string (nullable = true)\n",
      " |-- Price: string (nullable = true)\n",
      " |-- Review: string (nullable = true)\n",
      " |-- Score: string (nullable = true)\n",
      " |-- Image: string (nullable = true)\n",
      " |-- Category: string (nullable = true)\n",
      " |-- URL: string (nullable = true)\n",
      " |-- Platform: string (nullable = true)\n",
      "\n"
     ]
    }
   ],
   "source": [
    "dfLazada.printSchema()"
   ]
  },
  {
   "cell_type": "code",
   "execution_count": 44,
   "metadata": {},
   "outputs": [
    {
     "name": "stdout",
     "output_type": "stream",
     "text": [
      "root\n",
      " |-- Name: string (nullable = true)\n",
      " |-- Price: string (nullable = true)\n",
      " |-- Review: string (nullable = true)\n",
      " |-- Score: double (nullable = true)\n",
      " |-- Image: string (nullable = true)\n",
      " |-- Category: string (nullable = true)\n",
      " |-- URL: string (nullable = true)\n",
      " |-- Platform: string (nullable = true)\n",
      " |-- Store: string (nullable = true)\n",
      " |-- Subcategory: string (nullable = true)\n",
      "\n"
     ]
    }
   ],
   "source": [
    "dfJD.printSchema()"
   ]
  },
  {
   "cell_type": "code",
   "execution_count": 45,
   "metadata": {},
   "outputs": [],
   "source": [
    "newdf = dfShopee.unionByName(dfJD, allowMissingColumns = True)\n",
    "newdf = newdf.unionByName(dfLazada, allowMissingColumns = True)\n",
    "newdf = newdf.dropDuplicates(['URL'])"
   ]
  },
  {
   "cell_type": "code",
   "execution_count": 46,
   "metadata": {
    "scrolled": true
   },
   "outputs": [
    {
     "name": "stderr",
     "output_type": "stream",
     "text": [
      "[Stage 28:==================================>                      (9 + 6) / 15]\r"
     ]
    },
    {
     "name": "stdout",
     "output_type": "stream",
     "text": [
      "+--------------------+-------+------+------------------+--------------------+--------------------+--------------------+--------+--------------------+---------------+----------+--------------------+-----+-----------+\n",
      "|                Name|  Price|Review|             Score|               Image|            Category|                 URL|Platform|               brand|historical_sold|view_count|       shop_location|Store|Subcategory|\n",
      "+--------------------+-------+------+------------------+--------------------+--------------------+--------------------+--------+--------------------+---------------+----------+--------------------+-----+-----------+\n",
      "|4G Pocket WiFi 15...|  829.0|   512|  4.58029197080292|https://cf.shopee...|   อุปกรณ์เน็ตเวิร์ค|https://shopee.co...|  Shopee|No Brand(ไม่มียี่...|            784|      1715|จังหวัดกรุงเทพมหานคร| null|       null|\n",
      "|9900mAh ถ่านชาร์จ...|   10.0|   410| 4.712628865979381|https://cf.shopee...|  อุปกรณ์เสริมมือถือ|https://shopee.co...|  Shopee|No Brand(ไม่มียี่...|           6471|      1608|จังหวัดกรุงเทพมหานคร| null|       null|\n",
      "|Avast Premium Sec...|  134.0|    26|              4.85|https://cf.shopee...|           ซอฟต์แวร์|https://shopee.co...|  Shopee|               Avast|             48|       394|จังหวัดกรุงเทพมหานคร| null|       null|\n",
      "|Development Board...|   49.0|    23| 4.672727272727273|https://cf.shopee...|แล็ปท็อปและคอมตั้...|https://shopee.co...|  Shopee|No Brand(ไม่มียี่...|            395|        86|     จังหวัดปทุมธานี| null|       null|\n",
      "|EP Media 4x6 นิ้ว...|  380.0|    64| 4.958904109589041|https://cf.shopee...|               ฟิล์ม|https://shopee.co...|  Shopee|       Epson(เอปสัน)|            163|        88|จังหวัดกรุงเทพมหานคร| null|       null|\n",
      "|Griptok เปล่า กริ...|    3.0|  1363|4.6984615384615385|https://cf.shopee...|  อุปกรณ์เสริมมือถือ|https://shopee.co...|  Shopee|                null|          10702|      6168|          ต่างประเทศ| null|       null|\n",
      "|Hikvision , DS-2C...|  990.0|    36| 4.964912280701754|https://cf.shopee...|        กล้องวงจรปิด|https://shopee.co...|  Shopee|Hikvision(ไฮควิชั่น)|            460|       201|  จังหวัดสมุทรปราการ| null|       null|\n",
      "|Hivison กล้องวงจร...|  349.0|  6783|4.5985999404229965|https://cf.shopee...|กล้องและอุปกรณ์ถ่...|https://shopee.co...|  Shopee|No Brand(ไม่มียี่...|          28196|     18687|     จังหวัดปทุมธานี| null|       null|\n",
      "|Microsoft Office ...|  750.0|    62| 4.945945945945946|https://cf.shopee...|           ซอฟต์แวร์|https://shopee.co...|  Shopee|                null|             62|       219|จังหวัดกรุงเทพมหานคร| null|       null|\n",
      "|Notebook  Acer Ex...|11500.0|   854| 4.985074626865671|https://cf.shopee...|แล็ปท็อปและคอมตั้...|https://shopee.co...|  Shopee|       Acer(เอเซอร์)|            111|      3644|   จังหวัดนครราชสีมา| null|       null|\n",
      "|PERFECTS Tablet C...|   99.0|    16| 4.882352941176471|https://cf.shopee...|            แท็บเล็ต|https://shopee.co...|  Shopee|Perfect(เพอร์เฟกต์ส)|             73|        77|จังหวัดกรุงเทพมหานคร| null|       null|\n",
      "|Samsung Galaxy Ta...|11690.0|   801| 4.884615384615385|https://cf.shopee...|            แท็บเล็ต|https://shopee.co...|  Shopee|     Samsung(ซัมซุง)|             78|      1692|จังหวัดกรุงเทพมหานคร| null|       null|\n",
      "|SanDisk CRUZER BL...|  130.0|   156| 4.930147058823529|https://cf.shopee...|อุปกรณ์จัดเก็บข้อมูล|https://shopee.co...|  Shopee|   Sandisk(แซนดิสก์)|            785|       570|จังหวัดกรุงเทพมหานคร| null|       null|\n",
      "|SanDisk Ultra USB...|  159.0|   258| 4.914460285132383|https://cf.shopee...|อุปกรณ์จัดเก็บข้อมูล|https://shopee.co...|  Shopee|                null|           1169|       399|จังหวัดกรุงเทพมหานคร| null|       null|\n",
      "|Teclast P85 แท็บเ...| 2499.0|   147| 4.866666666666666|https://cf.shopee...|            แท็บเล็ต|https://shopee.co...|  Shopee|                null|             39|      2900|          ต่างประเทศ| null|       null|\n",
      "|Transcend RAM-Mem...| 1599.0|   429| 4.935622317596566|https://cf.shopee...| ชิ้นส่วนคอมพิวเตอร์|https://shopee.co...|  Shopee|                null|            839|        49|จังหวัดกรุงเทพมหานคร| null|       null|\n",
      "|Type-C Multifunct...|  389.0|  2195| 4.786382978723404|https://cf.shopee...|อุปกรณ์เสริมคอมพิ...|https://shopee.co...|  Shopee|                null|           2887|      3225|จังหวัดกรุงเทพมหานคร| null|       null|\n",
      "|VR USB Type C Ocu...|  799.0|   223| 4.871369294605809|https://cf.shopee...|   อุปกรณ์ไอทีสวมใส่|https://shopee.co...|  Shopee|No Brand(ไม่มียี่...|            790|       889|  จังหวัดสมุทรปราการ| null|       null|\n",
      "|Window 10Pro FPP ...| 2020.0|    42|               5.0|https://cf.shopee...|           ซอฟต์แวร์|https://shopee.co...|  Shopee|   Windows(วินโดวส์)|             38|        45|จังหวัดกรุงเทพมหานคร| null|       null|\n",
      "|Xiaomi Mi 360° Ho...| 1250.0|    28| 4.888888888888889|https://cf.shopee...|        กล้องแอคชั่น|https://shopee.co...|  Shopee|   Xiaomi(เสี่ยวมี่)|             71|       172|จังหวัดกรุงเทพมหานคร| null|       null|\n",
      "+--------------------+-------+------+------------------+--------------------+--------------------+--------------------+--------+--------------------+---------------+----------+--------------------+-----+-----------+\n",
      "only showing top 20 rows\n",
      "\n"
     ]
    },
    {
     "name": "stderr",
     "output_type": "stream",
     "text": [
      "\r",
      "[Stage 28:=========================================>              (11 + 4) / 15]\r",
      "\r",
      "                                                                                \r"
     ]
    }
   ],
   "source": [
    "newdf.show()"
   ]
  },
  {
   "cell_type": "code",
   "execution_count": 20,
   "metadata": {},
   "outputs": [],
   "source": [
    "# newdf = newdf.withColumnRenamed(\"Category\",\"SubCategory\")"
   ]
  },
  {
   "cell_type": "code",
   "execution_count": 23,
   "metadata": {},
   "outputs": [],
   "source": [
    "# newdf = newdf.withColumn(\"Category\", lit(''))"
   ]
  },
  {
   "cell_type": "code",
   "execution_count": 30,
   "metadata": {},
   "outputs": [
    {
     "data": {
      "text/plain": [
       "DataFrame[Name: string, Price: string, Review: string, Score: string, Image: string, Category: string, URL: string, Platform: string, brand: string, historical_sold: string, view_count: string, shop_location: string, Store: string, Subcategory: string]"
      ]
     },
     "execution_count": 30,
     "metadata": {},
     "output_type": "execute_result"
    }
   ],
   "source": [
    "newdf"
   ]
  },
  {
   "cell_type": "code",
   "execution_count": 31,
   "metadata": {},
   "outputs": [],
   "source": [
    "count_df = newdf.select('Category')\\\n",
    "    .groupBy('Category')\\\n",
    "    .count()\\\n",
    "    .sort('count', ascending=False)"
   ]
  },
  {
   "cell_type": "markdown",
   "metadata": {},
   "source": [
    "df_new = count_df.toPandas()\n",
    "df_new.to_csv('test.csv',encoding='utf-8-sig',index= False)"
   ]
  },
  {
   "cell_type": "code",
   "execution_count": 33,
   "metadata": {
    "scrolled": true
   },
   "outputs": [
    {
     "name": "stderr",
     "output_type": "stream",
     "text": [
      "[Stage 16:============================================>           (12 + 3) / 15]\r"
     ]
    },
    {
     "name": "stdout",
     "output_type": "stream",
     "text": [
      "+--------------------+-----+\n",
      "|            Category|count|\n",
      "+--------------------+-----+\n",
      "|คอมพิวเตอร์และสำน...|25221|\n",
      "|อุปกรณ์อิเล็กทรอน...|21054|\n",
      "|โทรศัพท์มือถือและ...| 9149|\n",
      "|      โทรศัพท์มือถือ| 1147|\n",
      "|            แท็บเล็ต| 1097|\n",
      "|         กล้องคอมแพค| 1076|\n",
      "|คอมพิวเตอร์แบบตั้...| 1040|\n",
      "|    กล้องมิลเลอร์เลส| 1038|\n",
      "|         กล้องวิดีโอ| 1035|\n",
      "|          กล้อง DSLR| 1035|\n",
      "|            แล็ปท็อป| 1034|\n",
      "|      กล้องอินสแตนท์| 1033|\n",
      "|กล้องและระบบรักษา...| 1029|\n",
      "|                โดรน| 1028|\n",
      "|เครื่องเล่นเกมคอมโซล| 1027|\n",
      "|   อุปกรณ์เน็ตเวิร์ค|   40|\n",
      "|อุปกรณ์จัดเก็บข้อมูล|   20|\n",
      "|        กล้องแอคชั่น|   20|\n",
      "|     เคสและซองมือถือ|   20|\n",
      "|กล้องและอุปกรณ์ถ่...|   20|\n",
      "|อุปกรณ์สำหรับเล่นเกม|   20|\n",
      "|           ซอฟต์แวร์|   20|\n",
      "|อุปกรณ์เสริมคอมพิ...|   20|\n",
      "| อุปกรณ์กันรอยหน้าจอ|   20|\n",
      "|               เลนส์|   20|\n",
      "|แล็ปท็อปและคอมตั้...|   20|\n",
      "|               ฟิล์ม|   20|\n",
      "|      แบตเตอรี่สำรอง|   20|\n",
      "|       เมมโมรี่การ์ด|   20|\n",
      "|   อุปกรณ์เสริมกล้อง|   20|\n",
      "|มือถือและอุปกรณ์เ...|   20|\n",
      "|  อุปกรณ์เสริมมือถือ|   20|\n",
      "| ชิ้นส่วนคอมพิวเตอร์|   20|\n",
      "|   อุปกรณ์ไอทีสวมใส่|   20|\n",
      "|        กล้องวงจรปิด|   20|\n",
      "|คอมพิวเตอร์และแล็...|   20|\n",
      "|ปริ้นเตอร์และอุปก...|   20|\n",
      "|               กล้อง|   20|\n",
      "|https://lzd-img-g...|    1|\n",
      "|             ฿994.70|    1|\n",
      "|https://th-live-0...|    1|\n",
      "|https://www.lazad...|    1|\n",
      "|                null|    1|\n",
      "+--------------------+-----+\n",
      "\n"
     ]
    },
    {
     "name": "stderr",
     "output_type": "stream",
     "text": [
      "\r",
      "                                                                                \r"
     ]
    }
   ],
   "source": [
    "count_df.show(100000)\n"
   ]
  },
  {
   "cell_type": "code",
   "execution_count": 50,
   "metadata": {},
   "outputs": [],
   "source": [
    "count_df = count_df.toPandas()\n",
    "# count_df.to_csv('CT2.csv',encoding='utf-8-sig',index= False)"
   ]
  },
  {
   "cell_type": "code",
   "execution_count": 47,
   "metadata": {},
   "outputs": [
    {
     "name": "stderr",
     "output_type": "stream",
     "text": [
      "                                                                                \r"
     ]
    }
   ],
   "source": [
    "keyword = []\n",
    "thkeyword = []\n",
    "numkeyword = []\n",
    "string = \"\"\n",
    "thstring = \"\"\n",
    "numstring = \"\"\n",
    "p = '[\\d]+[.,\\d]+|[\\d]*[.][\\d]+|[\\d]+'\n",
    "for row in newdf.rdd.collect():\n",
    "    line = re.sub(r\"[^A-Za-z-?\\d+\\.?\\d*]\", \" \", row[\"Name\"].strip())\n",
    "    thline = re.sub(r\"[^\\u0E00-\\u0E7F-?\\d+\\.?\\d*]\", \" \", row[\"Name\"].strip())\n",
    "    words = line.split()\n",
    "    thwords = thline.split()\n",
    "    for word in words:\n",
    "        string += word + \" \"\n",
    "        if re.search(p, word) is not None:\n",
    "            for catch in re.finditer(p, word):\n",
    "                numstring += catch[0] + \" \" # catch is a match object\n",
    "    for thword in thwords: \n",
    "        thstring += thword + \" \"\n",
    "    keyword.append(string)\n",
    "    thkeyword.append(thstring)\n",
    "    numkeyword.append(numstring)\n",
    "    string = \"\"\n",
    "    thstring = \"\"\n",
    "    numstring = \"\""
   ]
  },
  {
   "cell_type": "code",
   "execution_count": 48,
   "metadata": {},
   "outputs": [
    {
     "name": "stderr",
     "output_type": "stream",
     "text": [
      "\r",
      "[Stage 35:====================================>                     (5 + 3) / 8]\r",
      "\r",
      "                                                                                \r"
     ]
    }
   ],
   "source": [
    "df_new = newdf.toPandas()"
   ]
  },
  {
   "cell_type": "code",
   "execution_count": 49,
   "metadata": {},
   "outputs": [],
   "source": [
    "df_new[\"enToken\"] = keyword\n",
    "df_new[\"thToken\"] = thkeyword"
   ]
  },
  {
   "cell_type": "code",
   "execution_count": 50,
   "metadata": {},
   "outputs": [],
   "source": [
    "df_new['Score'] = df_new['Score'].fillna(0)\n",
    "df_new['URL'] = df_new['URL'].dropna()\n",
    "df_new['Platform'] = df_new['Platform'].dropna()\n",
    "df_new['enToken'] = df_new['enToken'].replace('' ,'NULL')\n",
    "df_new['thToken'] = df_new['thToken'].replace('' ,'NULL')"
   ]
  },
  {
   "cell_type": "code",
   "execution_count": 51,
   "metadata": {},
   "outputs": [],
   "source": [
    "for index, row in df_new.iterrows():\n",
    "    row['Price'] = row['Price'].translate({ ord(c): None for c in '\"฿,'  })\n"
   ]
  },
  {
   "cell_type": "code",
   "execution_count": 53,
   "metadata": {},
   "outputs": [
    {
     "data": {
      "text/plain": [
       "68527"
      ]
     },
     "execution_count": 53,
     "metadata": {},
     "output_type": "execute_result"
    }
   ],
   "source": [
    "len(df_new)"
   ]
  },
  {
   "cell_type": "code",
   "execution_count": 54,
   "metadata": {},
   "outputs": [],
   "source": [
    "df_new.to_csv('JD+Shopee+Lazada.csv',encoding='utf-8-sig',sep=';',index= False)"
   ]
  }
 ],
 "metadata": {
  "kernelspec": {
   "display_name": "Python 3 (ipykernel)",
   "language": "python",
   "name": "python3"
  },
  "language_info": {
   "codemirror_mode": {
    "name": "ipython",
    "version": 3
   },
   "file_extension": ".py",
   "mimetype": "text/x-python",
   "name": "python",
   "nbconvert_exporter": "python",
   "pygments_lexer": "ipython3",
   "version": "3.8.10"
  }
 },
 "nbformat": 4,
 "nbformat_minor": 4
}
